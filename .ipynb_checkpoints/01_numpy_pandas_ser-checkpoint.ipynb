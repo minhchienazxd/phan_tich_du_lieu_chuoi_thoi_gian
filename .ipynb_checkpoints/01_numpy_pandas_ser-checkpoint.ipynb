{
 "cells": [
  {
   "cell_type": "code",
   "execution_count": 36,
   "id": "41e01b73-c00b-484c-8934-60484567f2a0",
   "metadata": {},
   "outputs": [],
   "source": [
    "import numpy as np\n",
    "import pandas as pd\n"
   ]
  },
  {
   "cell_type": "code",
   "execution_count": 38,
   "id": "9f76543c-bda7-47f4-9898-a343499229f6",
   "metadata": {},
   "outputs": [],
   "source": [
    "label = ['a', 'b', 'c']\n",
    "list = [10,20,30]\n",
    "ar = np.array([10,20,30])\n",
    "d = {'a':10, 'b':20, 'c':30}"
   ]
  },
  {
   "cell_type": "code",
   "execution_count": 40,
   "id": "b43e28c2-c027-46e7-91ed-2dd72119d019",
   "metadata": {},
   "outputs": [
    {
     "data": {
      "text/plain": [
       "0    10\n",
       "1    20\n",
       "2    30\n",
       "dtype: int64"
      ]
     },
     "execution_count": 40,
     "metadata": {},
     "output_type": "execute_result"
    }
   ],
   "source": [
    "pd.Series(data=list)"
   ]
  },
  {
   "cell_type": "code",
   "execution_count": 44,
   "id": "0668c936-50fb-4374-a5ad-a17a7f8a9869",
   "metadata": {},
   "outputs": [
    {
     "data": {
      "text/plain": [
       "a    10\n",
       "b    20\n",
       "c    30\n",
       "dtype: int64"
      ]
     },
     "execution_count": 44,
     "metadata": {},
     "output_type": "execute_result"
    }
   ],
   "source": [
    "pd.Series(data=list,index=label)"
   ]
  },
  {
   "cell_type": "code",
   "execution_count": 46,
   "id": "d30db587-d01a-4701-942c-5b9c1bcbbfa4",
   "metadata": {},
   "outputs": [
    {
     "data": {
      "text/plain": [
       "a    10\n",
       "b    20\n",
       "c    30\n",
       "dtype: int64"
      ]
     },
     "execution_count": 46,
     "metadata": {},
     "output_type": "execute_result"
    }
   ],
   "source": [
    "pd.Series(list,label)"
   ]
  },
  {
   "cell_type": "code",
   "execution_count": 50,
   "id": "ea103e0e-d4cb-455c-8419-bfc0d26a7d0e",
   "metadata": {},
   "outputs": [],
   "source": [
    "ser1 = pd.Series([1,2,3,4], index = ['USA','GEMANY','YTALY','JAV'])"
   ]
  },
  {
   "cell_type": "code",
   "execution_count": 52,
   "id": "7b0e62aa-2abd-48d3-b079-cc4e2eaa4b92",
   "metadata": {},
   "outputs": [
    {
     "data": {
      "text/plain": [
       "USA       1\n",
       "GEMANY    2\n",
       "YTALY     3\n",
       "JAV       4\n",
       "dtype: int64"
      ]
     },
     "execution_count": 52,
     "metadata": {},
     "output_type": "execute_result"
    }
   ],
   "source": [
    "ser1"
   ]
  },
  {
   "cell_type": "code",
   "execution_count": 54,
   "id": "02d46814-1143-455d-bc9a-5b3648253f8a",
   "metadata": {},
   "outputs": [],
   "source": [
    "ser2 = pd.Series([1,2,5,4], index = ['USA','GEMANY','YTALY','JAV'])"
   ]
  },
  {
   "cell_type": "code",
   "execution_count": 56,
   "id": "450655f4-3bed-4ec6-814e-faa60b465474",
   "metadata": {},
   "outputs": [
    {
     "data": {
      "text/plain": [
       "USA       1\n",
       "GEMANY    2\n",
       "YTALY     5\n",
       "JAV       4\n",
       "dtype: int64"
      ]
     },
     "execution_count": 56,
     "metadata": {},
     "output_type": "execute_result"
    }
   ],
   "source": [
    "ser2"
   ]
  },
  {
   "cell_type": "code",
   "execution_count": 58,
   "id": "b20e3b02-6de4-4f48-921d-5b8c64b741b4",
   "metadata": {},
   "outputs": [
    {
     "data": {
      "text/plain": [
       "USA       2\n",
       "GEMANY    4\n",
       "YTALY     8\n",
       "JAV       8\n",
       "dtype: int64"
      ]
     },
     "execution_count": 58,
     "metadata": {},
     "output_type": "execute_result"
    }
   ],
   "source": [
    "ser1 + ser2"
   ]
  },
  {
   "cell_type": "code",
   "execution_count": null,
   "id": "2f5b74ad-84b1-41f8-8249-f8734c9b738f",
   "metadata": {},
   "outputs": [],
   "source": []
  }
 ],
 "metadata": {
  "kernelspec": {
   "display_name": "Python 3 (ipykernel)",
   "language": "python",
   "name": "python3"
  },
  "language_info": {
   "codemirror_mode": {
    "name": "ipython",
    "version": 3
   },
   "file_extension": ".py",
   "mimetype": "text/x-python",
   "name": "python",
   "nbconvert_exporter": "python",
   "pygments_lexer": "ipython3",
   "version": "3.12.4"
  }
 },
 "nbformat": 4,
 "nbformat_minor": 5
}
