{
 "cells": [
  {
   "cell_type": "code",
   "execution_count": 77,
   "id": "f3e82c9f-2af5-486d-be5e-ecdf3c9dd897",
   "metadata": {},
   "outputs": [],
   "source": [
    "from datetime import datetime\n",
    "import numpy as np\n",
    "import pandas as pd"
   ]
  },
  {
   "cell_type": "code",
   "execution_count": 79,
   "id": "565a542e-7970-4a1d-9891-d499add71482",
   "metadata": {},
   "outputs": [],
   "source": [
    "my_yaer = 2007\n",
    "my_month = 1\n",
    "my_day = 2\n",
    "my_hour = 13\n",
    "my_minute = 30\n",
    "my_second = 19"
   ]
  },
  {
   "cell_type": "code",
   "execution_count": 81,
   "id": "3b74fa65-8d81-4eeb-ac28-3cb6f1bd3b8c",
   "metadata": {},
   "outputs": [],
   "source": [
    "my_date = datetime(my_yaer,my_month,my_day)"
   ]
  },
  {
   "cell_type": "code",
   "execution_count": 83,
   "id": "9f3e17ea-bb2f-4aef-96e9-36ab48a71b41",
   "metadata": {},
   "outputs": [
    {
     "data": {
      "text/plain": [
       "datetime.datetime(2007, 1, 2, 0, 0)"
      ]
     },
     "execution_count": 83,
     "metadata": {},
     "output_type": "execute_result"
    }
   ],
   "source": [
    "my_date"
   ]
  },
  {
   "cell_type": "code",
   "execution_count": 85,
   "id": "09cd0274-1ca1-467e-9032-851ffb75d020",
   "metadata": {},
   "outputs": [],
   "source": [
    "my_date_time = datetime(my_yaer,my_month,my_day,my_hour,my_minute,my_second)"
   ]
  },
  {
   "cell_type": "code",
   "execution_count": 87,
   "id": "ca612c54-e6e4-40d7-9d23-956d173179f3",
   "metadata": {},
   "outputs": [
    {
     "data": {
      "text/plain": [
       "datetime.datetime(2007, 1, 2, 13, 30, 19)"
      ]
     },
     "execution_count": 87,
     "metadata": {},
     "output_type": "execute_result"
    }
   ],
   "source": [
    "my_date_time"
   ]
  },
  {
   "cell_type": "code",
   "execution_count": 89,
   "id": "6127486c-077c-4c6e-b112-89ac021f4775",
   "metadata": {},
   "outputs": [
    {
     "data": {
      "text/plain": [
       "2"
      ]
     },
     "execution_count": 89,
     "metadata": {},
     "output_type": "execute_result"
    }
   ],
   "source": [
    "my_date.day"
   ]
  },
  {
   "cell_type": "code",
   "execution_count": 91,
   "id": "d63b2d83-1f1b-4007-9fde-b084173ed569",
   "metadata": {},
   "outputs": [
    {
     "data": {
      "text/plain": [
       "13"
      ]
     },
     "execution_count": 91,
     "metadata": {},
     "output_type": "execute_result"
    }
   ],
   "source": [
    "my_date_time.hour"
   ]
  },
  {
   "cell_type": "code",
   "execution_count": 145,
   "id": "e2249ed5-a753-42ab-b55c-f61dda86ad54",
   "metadata": {},
   "outputs": [
    {
     "data": {
      "text/plain": [
       "array(['2016-03-15', '2017-05-24', '2018-08-09'], dtype='datetime64[D]')"
      ]
     },
     "execution_count": 145,
     "metadata": {},
     "output_type": "execute_result"
    }
   ],
   "source": [
    "a = np.array(['2016-03-15', '2017-05-24', '2018-08-09'], dtype ='datetime64')\n",
    "a"
   ]
  },
  {
   "cell_type": "code",
   "execution_count": 95,
   "id": "e3c5ff5b-377e-4b2b-b5c1-1d2799783841",
   "metadata": {},
   "outputs": [
    {
     "data": {
      "text/plain": [
       "array(['2018-06-01', '2018-06-08', '2018-06-15', '2018-06-22'],\n",
       "      dtype='datetime64[D]')"
      ]
     },
     "execution_count": 95,
     "metadata": {},
     "output_type": "execute_result"
    }
   ],
   "source": [
    "np.arange('2018-06-01', '2018-06-23', 7, dtype ='datetime64[D]')"
   ]
  },
  {
   "cell_type": "code",
   "execution_count": 97,
   "id": "6c2c2109-4ed5-44e6-b180-f9987312b4bb",
   "metadata": {},
   "outputs": [
    {
     "data": {
      "text/plain": [
       "array(['1968', '1969', '1970', '1971', '1972', '1973', '1974'],\n",
       "      dtype='datetime64[Y]')"
      ]
     },
     "execution_count": 97,
     "metadata": {},
     "output_type": "execute_result"
    }
   ],
   "source": [
    "np.arange('1968', '1975', dtype='datetime64')"
   ]
  },
  {
   "cell_type": "code",
   "execution_count": 99,
   "id": "7fd60f5b-9204-43ea-9aea-3676652318c6",
   "metadata": {},
   "outputs": [
    {
     "data": {
      "text/plain": [
       "DatetimeIndex(['2018-07-08', '2018-07-09', '2018-07-10', '2018-07-11',\n",
       "               '2018-07-12', '2018-07-13', '2018-07-14'],\n",
       "              dtype='datetime64[ns]', freq='D')"
      ]
     },
     "execution_count": 99,
     "metadata": {},
     "output_type": "execute_result"
    }
   ],
   "source": [
    "idx = pd.date_range('7/8/2018', periods=7, freq='D')\n",
    "idx"
   ]
  },
  {
   "cell_type": "code",
   "execution_count": 119,
   "id": "ad47f53d-0513-4149-9251-49ab4d2e4406",
   "metadata": {},
   "outputs": [
    {
     "data": {
      "text/plain": [
       "DatetimeIndex(['2018-01-01', 'NaT', 'NaT', 'NaT'], dtype='datetime64[ns]', freq=None)"
      ]
     },
     "execution_count": 119,
     "metadata": {},
     "output_type": "execute_result"
    }
   ],
   "source": [
    "idxs =pd.to_datetime(['Jan 01, 2018', '1/2/18', '03-Jan-2018', None], errors='coerce')\n",
    "idxs"
   ]
  },
  {
   "cell_type": "code",
   "execution_count": 121,
   "id": "cc214a7f-c827-4cd7-a9ed-b56f2c328535",
   "metadata": {},
   "outputs": [
    {
     "name": "stdout",
     "output_type": "stream",
     "text": [
      "['Jan 01, 2018', '1/2/18', '03-Jan-2018', None]\n"
     ]
    }
   ],
   "source": [
    "dates = ['Jan 01, 2018', '1/2/18', '03-Jan-2018', None]\n",
    "print(dates)"
   ]
  },
  {
   "cell_type": "code",
   "execution_count": 127,
   "id": "b30363e8-a9a0-4b3f-b83f-812f8e074910",
   "metadata": {},
   "outputs": [
    {
     "data": {
      "text/plain": [
       "DatetimeIndex(['2018-01-01', 'NaT', 'NaT', 'NaT'], dtype='datetime64[ns]', freq=None)"
      ]
     },
     "execution_count": 127,
     "metadata": {},
     "output_type": "execute_result"
    }
   ],
   "source": [
    "idxs =pd.to_datetime(['Jan 01, 2018', '1/2/18', '03-Jan-2018', None], errors='coerce')\n",
    "idxs"
   ]
  },
  {
   "cell_type": "code",
   "execution_count": null,
   "id": "e61d23c1-7ddb-43e3-9e94-40d38c8b9c43",
   "metadata": {},
   "outputs": [],
   "source": []
  },
  {
   "cell_type": "code",
   "execution_count": 147,
   "id": "68d5a4b9-b257-425c-8783-329db1207c6d",
   "metadata": {},
   "outputs": [
    {
     "data": {
      "text/plain": [
       "DatetimeIndex(['2016-03-15', '2017-05-24', '2018-08-09'], dtype='datetime64[s]', freq=None)"
      ]
     },
     "execution_count": 147,
     "metadata": {},
     "output_type": "execute_result"
    }
   ],
   "source": [
    "idxl = pd.DatetimeIndex(a)\n",
    "idxl"
   ]
  },
  {
   "cell_type": "code",
   "execution_count": 131,
   "id": "89b308f3-89e7-44e3-bbca-9829e2b5c38b",
   "metadata": {},
   "outputs": [
    {
     "data": {
      "text/plain": [
       "array([[-0.3732602 ,  0.98905449],\n",
       "       [-0.47239578, -1.12922776],\n",
       "       [ 0.10831128, -1.96078253]])"
      ]
     },
     "execution_count": 131,
     "metadata": {},
     "output_type": "execute_result"
    }
   ],
   "source": [
    "data = np.random.randn(3,2)\n",
    "cols = ['A', 'B']\n",
    "data"
   ]
  },
  {
   "cell_type": "code",
   "execution_count": 151,
   "id": "88ac5868-dd15-4e03-a1f2-f80d1f993c28",
   "metadata": {},
   "outputs": [
    {
     "data": {
      "text/html": [
       "<div>\n",
       "<style scoped>\n",
       "    .dataframe tbody tr th:only-of-type {\n",
       "        vertical-align: middle;\n",
       "    }\n",
       "\n",
       "    .dataframe tbody tr th {\n",
       "        vertical-align: top;\n",
       "    }\n",
       "\n",
       "    .dataframe thead th {\n",
       "        text-align: right;\n",
       "    }\n",
       "</style>\n",
       "<table border=\"1\" class=\"dataframe\">\n",
       "  <thead>\n",
       "    <tr style=\"text-align: right;\">\n",
       "      <th></th>\n",
       "      <th>A</th>\n",
       "      <th>B</th>\n",
       "    </tr>\n",
       "  </thead>\n",
       "  <tbody>\n",
       "    <tr>\n",
       "      <th>2016-03-15</th>\n",
       "      <td>-0.373260</td>\n",
       "      <td>0.989054</td>\n",
       "    </tr>\n",
       "    <tr>\n",
       "      <th>2017-05-24</th>\n",
       "      <td>-0.472396</td>\n",
       "      <td>-1.129228</td>\n",
       "    </tr>\n",
       "    <tr>\n",
       "      <th>2018-08-09</th>\n",
       "      <td>0.108311</td>\n",
       "      <td>-1.960783</td>\n",
       "    </tr>\n",
       "  </tbody>\n",
       "</table>\n",
       "</div>"
      ],
      "text/plain": [
       "                   A         B\n",
       "2016-03-15 -0.373260  0.989054\n",
       "2017-05-24 -0.472396 -1.129228\n",
       "2018-08-09  0.108311 -1.960783"
      ]
     },
     "execution_count": 151,
     "metadata": {},
     "output_type": "execute_result"
    }
   ],
   "source": [
    "df = pd.DataFrame(data,idxl,cols)\n",
    "df"
   ]
  },
  {
   "cell_type": "code",
   "execution_count": 155,
   "id": "ca1acd65-e700-4950-9c5e-0eb1a744dfa5",
   "metadata": {},
   "outputs": [
    {
     "data": {
      "text/plain": [
       "Timestamp('2018-08-09 00:00:00')"
      ]
     },
     "execution_count": 155,
     "metadata": {},
     "output_type": "execute_result"
    }
   ],
   "source": [
    "df.index.max()"
   ]
  },
  {
   "cell_type": "code",
   "execution_count": 159,
   "id": "9362f4f1-71be-4ab3-ad18-df6e28aa6044",
   "metadata": {},
   "outputs": [
    {
     "data": {
      "text/plain": [
       "2"
      ]
     },
     "execution_count": 159,
     "metadata": {},
     "output_type": "execute_result"
    }
   ],
   "source": [
    "df.index.argmax()"
   ]
  },
  {
   "cell_type": "code",
   "execution_count": null,
   "id": "5a83b28c-d2f9-4a4c-beb3-6ca88cc25f34",
   "metadata": {},
   "outputs": [],
   "source": []
  }
 ],
 "metadata": {
  "kernelspec": {
   "display_name": "Python 3 (ipykernel)",
   "language": "python",
   "name": "python3"
  },
  "language_info": {
   "codemirror_mode": {
    "name": "ipython",
    "version": 3
   },
   "file_extension": ".py",
   "mimetype": "text/x-python",
   "name": "python",
   "nbconvert_exporter": "python",
   "pygments_lexer": "ipython3",
   "version": "3.12.4"
  }
 },
 "nbformat": 4,
 "nbformat_minor": 5
}
