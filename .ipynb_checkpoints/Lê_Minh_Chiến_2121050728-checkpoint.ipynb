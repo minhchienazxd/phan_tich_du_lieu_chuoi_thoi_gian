{
 "cells": [
  {
   "cell_type": "code",
   "execution_count": null,
   "id": "973312ad-e29b-42b5-929d-e54a7fe296c6",
   "metadata": {},
   "outputs": [],
   "source": []
  },
  {
   "cell_type": "code",
   "execution_count": null,
   "id": "46c70dd6-14d5-42d5-9705-0272224ca8f9",
   "metadata": {},
   "outputs": [],
   "source": [
    "import pandas as pd\n",
    "import numpy as np\n",
    "from statsmodels.tsa.arima.model import ARIMA\n",
    "from statsmodels.tsa.statespace.sarimax import SARIMAX\n",
    "from pmdarima import auto_arima\n",
    "from sklearn.metrics import mean_squared_error\n",
    "\n",
    "\n",
    "import warnings\n",
    "warnings.filterwarnings(\"ignore\")"
   ]
  },
  {
   "cell_type": "code",
   "execution_count": null,
   "id": "164d0d13-f5f5-4e9f-8473-6dec3e58c3de",
   "metadata": {},
   "outputs": [],
   "source": [
    "data = pd.read_csv('Data/BeerWineLiquor.csv')\n",
    "data['date'] = pd.to_datetime(data['date'], format='%m/%d/%Y')\n",
    "data.set_index('date', inplace=True)"
   ]
  },
  {
   "cell_type": "code",
   "execution_count": null,
   "id": "894aaa42-5802-48d8-baa5-4b9617409137",
   "metadata": {},
   "outputs": [],
   "source": [
    "data.info()"
   ]
  },
  {
   "cell_type": "code",
   "execution_count": null,
   "id": "820b606a-8f58-4c67-a062-d9826d676d98",
   "metadata": {},
   "outputs": [],
   "source": [
    "data.head()"
   ]
  },
  {
   "cell_type": "code",
   "execution_count": null,
   "id": "b6eaab5a-6055-4e67-9813-3d791f88f83e",
   "metadata": {},
   "outputs": [],
   "source": [
    "from statsmodels.tsa.stattools import adfuller\n",
    " \n",
    "def adf_test(series,title=''):\n",
    "    \"\"\"\n",
    "    Pass in a time series and an optional title, returns an ADF report\n",
    "    \"\"\"\n",
    "    print(f'Augmented Dickey-Fuller Test: {title}')\n",
    "    result = adfuller(series.dropna(),autolag='AIC') # .dropna() handles differenced data\n",
    "    labels = ['ADF test statistic','p-value','# lags used','# observations']\n",
    "    out = pd.Series(result[0:4],index=labels)\n",
    " \n",
    "    for key,val in result[4].items():\n",
    "        out[f'critical value ({key})']=val\n",
    "    print(out.to_string())          # .to_string() removes the line \"dtype: float64\"\n",
    "    if result[1] <= 0.05:\n",
    "        print(\"Strong evidence against the null hypothesis\")\n",
    "        print(\"Reject the null hypothesis\")\n",
    "        print(\"Data has no unit root and is stationary\")\n",
    "    else:\n",
    "        print(\"Weak evidence against the null hypothesis\")\n",
    "        print(\"Fail to reject the null hypothesis\")\n",
    "        print(\"Data has a unit root and is non-stationary\")"
   ]
  },
  {
   "cell_type": "code",
   "execution_count": null,
   "id": "0266ded7-ee48-4cab-b02b-40da97fe983b",
   "metadata": {},
   "outputs": [],
   "source": [
    "data['beer'].plot(figsize=(12,5));"
   ]
  },
  {
   "cell_type": "code",
   "execution_count": null,
   "id": "2ba10fd9-68c4-4d95-bac7-844e74fcc000",
   "metadata": {},
   "outputs": [],
   "source": [
    "# Kiểm tra tính dừng của chuỗi dữ liệu bằng ADF Test\n",
    "from statsmodels.tsa.stattools import adfuller\n",
    "\n",
    "def adf_test(series):\n",
    "    result = adfuller(series.dropna())\n",
    "    print(f'ADF Statistic: {result[0]}')\n",
    "    print(f'p-value: {result[1]}')\n",
    "    if result[1] <= 0.05:\n",
    "        print(\"Chuỗi dừng (không có đơn vị gốc)\")\n",
    "    else:\n",
    "        print(\"Chuỗi không dừng (có đơn vị gốc)\")\n",
    "\n",
    "adf_test(data['beer'])"
   ]
  },
  {
   "cell_type": "markdown",
   "id": "f93bc6bf-c2c0-498e-ad59-34ebacb377fc",
   "metadata": {},
   "source": [
    "**nhận xét**\n",
    "1. Chuỗi không dừng: Với p-value là 1.0 (lớn hơn 0.05), kiểm tra ADF cho thấy chuỗi này không dừng và có đơn vị gốc (unit root). Điều này có nghĩa là chuỗi có xu hướng thay đổi trung bình theo thời gian và không ổn định, có thể có xu hướng hoặc chu kỳ mà không tự trở lại trung bình cố định.\n",
    "\n",
    "2. Cần xử lý để làm cho chuỗi trở nên dừng: Để áp dụng các mô hình dự báo như ARIMA hoặc SARIMA hiệu quả, chuỗi này cần phải được chuyển thành chuỗi dừng. Một cách phổ biến để làm điều này là sử dụng sai phân (differencing). Ví dụ, nếu chuỗi có xu hướng tuyến tính, lấy sai phân bậc 1 có thể giúp chuỗi trở nên dừng.\n",
    "\n",
    "3. Bước tiếp theo: Thử lấy sai phân bậc 1 (hoặc bậc cao hơn nếu cần) và thực hiện lại kiểm tra ADF để xem liệu chuỗi đã trở thành dừng hay chưa. Nếu chuỗi trở thành dừng, ta có thể tiếp tục xây dựng các mô hình ARIMA hoặc SARIMA để dự báo."
   ]
  },
  {
   "cell_type": "code",
   "execution_count": null,
   "id": "39055f88-dd7f-4991-916e-0249e1d47fbf",
   "metadata": {},
   "outputs": [],
   "source": [
    "# Lấy sai phân bậc 1\n",
    "data_diff = data['beer'].diff().dropna()\n",
    "\n",
    "# Kiểm tra tính dừng của chuỗi đã sai phân\n",
    "adf_test(data_diff, title=\"Differenced Series\")\n"
   ]
  },
  {
   "cell_type": "markdown",
   "id": "e15f255a-4923-49a9-ac71-516447147373",
   "metadata": {},
   "source": [
    "**nhận xét**\n",
    "1. ADF test statistic: Giá trị ADF là -4.033255, nhỏ hơn tất cả các giá trị tới hạn (critical values) ở các mức ý nghĩa 1%, 5%, và 10%. Điều này cho thấy chuỗi đã vượt qua ngưỡng để bác bỏ giả thuyết gốc với mức độ tin cậy cao.\n",
    "\n",
    "2. p-value: Giá trị p-value là 0.001246, thấp hơn 0.05 (mức ý nghĩa phổ biến). Điều này cung cấp bằng chứng mạnh mẽ để bác bỏ giả thuyết gốc rằng chuỗi có đơn vị gốc (non-stationary). Nói cách khác, sau khi lấy sai phân, chuỗi đã đạt tính dừng.\n",
    "\n",
    "3. Kết luận về tính dừng: Kết quả từ ADF Test cho thấy chúng ta có thể bác bỏ giả thuyết gốc và kết luận rằng chuỗi không có đơn vị gốc và đã trở nên dừng. Điều này có nghĩa là các đặc tính thống kê của chuỗi (như trung bình và phương sai) không thay đổi theo thời gian, làm cho chuỗi phù hợp để áp dụng các mô hình dự báo tuyến tính như ARIMA hoặc SARIMA.\n",
    "\n",
    "**Ý nghĩa của kết quả**\n",
    "\n",
    "- Tính dừng là một yêu cầu quan trọng khi áp dụng các mô hình dự báo chuỗi thời gian như ARIMA hoặc SARIMA. Chuỗi dừng giúp các mô hình này dự báo chính xác hơn vì các đặc tính của chuỗi ổn định theo thời gian.\n",
    "- Vì chuỗi đã đạt tính dừng sau khi lấy sai phân bậc 1, chúng ta có thể sử dụng mô hình ARIMA hoặc SARIMA với tham số d=1 (chỉ số bậc sai phân)."
   ]
  },
  {
   "cell_type": "code",
   "execution_count": null,
   "id": "f277e702-6567-4dae-b827-593e648e43f8",
   "metadata": {},
   "outputs": [],
   "source": []
  },
  {
   "cell_type": "code",
   "execution_count": null,
   "id": "03cfed47-41c7-4d64-927b-262d4ab2b97b",
   "metadata": {},
   "outputs": [],
   "source": [
    "# Tự động chọn tham số cho ARIMA và SARIMA\n",
    "auto_arima_model = auto_arima(data['beer'], seasonal=True, m=12, trace=True)\n",
    "arima_order = auto_arima_model.order\n",
    "seasonal_order = auto_arima_model.seasonal_order\n",
    "\n",
    "print(f'Tham số ARIMA được chọn: {arima_order}')\n",
    "print(f'Tham số SARIMA được chọn: {seasonal_order}')"
   ]
  },
  {
   "cell_type": "code",
   "execution_count": null,
   "id": "0e7689b3-4ff4-41a1-9aa8-b4643ef2a225",
   "metadata": {},
   "outputs": [],
   "source": [
    "# Chia dữ liệu thành tập huấn luyện và tập kiểm tra\n",
    "train = data['beer'][:-12]\n",
    "test = data['beer'][-12:]"
   ]
  },
  {
   "cell_type": "markdown",
   "id": "42277c3d-59f6-4fcd-aed7-b7b9ececb28f",
   "metadata": {},
   "source": [
    "1. Lý do chọn 12 điểm dữ liệu cuối cùng cho tập kiểm tra\n",
    "\n",
    "- Dự báo cho 12 tháng tiếp theo: Trong nhiều trường hợp dự báo chuỗi thời gian, đặc biệt là với dữ liệu theo tháng, người ta thường muốn đánh giá mô hình trên khoảng thời gian một năm (12 tháng). Do đó, chọn 12 điểm dữ liệu cuối cùng cho tập kiểm tra giúp đánh giá khả năng của mô hình trong việc dự báo một chu kỳ hoàn chỉnh.\n",
    "\n",
    "- Giữ lại phần lớn dữ liệu cho huấn luyện: Để đảm bảo rằng mô hình có đủ dữ liệu để học các xu hướng và mẫu, chúng ta chỉ tách ra một phần nhỏ (12 điểm dữ liệu cuối cùng) làm tập kiểm tra, trong khi phần lớn dữ liệu được dùng để huấn luyện.\n",
    "\n",
    "2. Đảm bảo tính chất thời gian của chuỗi\n",
    "\n",
    "- Trong chuỗi thời gian, dữ liệu có tính tuần tự và có mối quan hệ theo thời gian. Khi chia dữ liệu, chúng ta cần tôn trọng tính tuần tự này để tránh việc mô hình \"nhìn thấy\" dữ liệu trong tương lai.\n",
    "\n",
    "- Bằng cách lấy 12 điểm dữ liệu cuối cùng làm tập kiểm tra, chúng ta đang đảm bảo rằng tập huấn luyện chỉ bao gồm dữ liệu trong quá khứ và mô hình sẽ dự báo cho tương lai (dữ liệu kiểm tra).\n",
    "\n",
    "3. Đánh giá hiệu suất dự báo\n",
    "\n",
    "- Sau khi mô hình được huấn luyện trên tập huấn luyện, chúng ta sẽ sử dụng nó để dự báo 12 điểm tiếp theo và so sánh với giá trị thực tế trong tập kiểm tra.\n",
    "\n",
    "- Các chỉ số như Mean Squared Error (MSE) và Root Mean Squared Error (RMSE) được tính toán dựa trên tập kiểm tra để đánh giá độ chính xác của mô hình.\n",
    "\n",
    "**Tóm lại**\n",
    "- Việc chia dữ liệu thành tập huấn luyện (toàn bộ dữ liệu trừ 12 điểm cuối) và tập kiểm tra (12 điểm cuối) là một cách hợp lý để:\n",
    "\n",
    "+ Đảm bảo mô hình có đủ dữ liệu để học.\n",
    "+ Đánh giá mô hình trên một chu kỳ 12 tháng tiếp theo (phù hợp nếu dữ liệu có tính mùa vụ hoặc theo chu kỳ).\n",
    "+ Bảo toàn tính chất tuần tự của dữ liệu chuỗi thời gian, giúp đánh giá chính xác hiệu quả dự báo của mô hình."
   ]
  },
  {
   "cell_type": "code",
   "execution_count": null,
   "id": "3a1d0c44-f6d3-41ad-8762-8d4949550e85",
   "metadata": {},
   "outputs": [],
   "source": [
    "# Xây dựng mô hình ARIMA\n",
    "arima_model = ARIMA(train, order=(4, 1, 3))\n",
    "arima_result = arima_model.fit()\n",
    "arima_forecast = arima_result.forecast(steps=12)"
   ]
  },
  {
   "cell_type": "code",
   "execution_count": null,
   "id": "6cc9c256-9a7d-4648-b673-7f4e84f1123a",
   "metadata": {},
   "outputs": [],
   "source": [
    "print(arima_result.summary())\n"
   ]
  },
  {
   "cell_type": "markdown",
   "id": "03649fe5-baba-498f-ad6d-ca2a8fb49c79",
   "metadata": {},
   "source": [
    "**Nhận xét tổng quan:**\n",
    "1. Mô hình ARIMA(4, 1, 3) dường như đã được khớp tốt với dữ liệu, với các chỉ số AIC và BIC khá hợp lý, và kiểm định Ljung-Box cho thấy không có tự tương quan trong phần dư.\n",
    "2. Tuy nhiên, các hệ số của thành phần AR và MA đều không có ý nghĩa thống kê (p-value lớn hơn 0.05), điều này có thể là dấu hiệu rằng mô hình có thể chưa được tối ưu.\n",
    "3. Phân phối phần dư không chuẩn và có phương sai thay đổi, điều này có thể làm giảm độ tin cậy của các dự báo. Nếu phân phối phần dư không chuẩn và phương sai thay đổi, thì mô hình có thể bị ảnh hưởng bởi các ngoại lệ và có thể không hoàn toàn ổn định khi dự báo.\n",
    "4. Độ lệch và độ nhọn của phần dư: Độ lệch phải và độ nhọn cao cho thấy phần dư có một số bất thường, điều này có thể ảnh hưởng đến tính chính xác của dự báo và cho thấy rằng dữ liệu có các giá trị ngoại lệ hoặc có cấu trúc phức tạp hơn mà mô hình ARIMA không thể mô hình hóa hoàn toàn.\n",
    "\n",
    "**Kết luận:**\n",
    "- Mô hình ARIMA(4, 1, 3) này có thể tạm sử dụng để dự báo, nhưng có những vấn đề tiềm ẩn như phương sai thay đổi và phân phối không chuẩn của phần dư.\n",
    "- Nếu cần độ chính xác cao hơn, có thể thử các phương pháp khác hoặc xem xét điều chỉnh thêm các tham số của mô hình, hoặc sử dụng mô hình SARIMA với các thành phần mùa vụ nếu dữ liệu có tính chất mùa vụ."
   ]
  },
  {
   "cell_type": "code",
   "execution_count": null,
   "id": "bd0815a9-9643-4a50-8141-ded55f5078b6",
   "metadata": {},
   "outputs": [],
   "source": [
    "# Xây dựng mô hình SARIMA\n",
    "sarima_model = SARIMAX(train, order=(4, 1, 3), seasonal_order=(2, 1, 1, 12))\n",
    "sarima_result = sarima_model.fit()\n",
    "sarima_forecast = sarima_result.forecast(steps=12)"
   ]
  },
  {
   "cell_type": "code",
   "execution_count": null,
   "id": "f67f0195-be16-4cbf-87ba-4d4ee67d1fe0",
   "metadata": {},
   "outputs": [],
   "source": [
    "print(sarima_result.summary())"
   ]
  },
  {
   "cell_type": "markdown",
   "id": "983d63d4-1beb-4990-9145-d4f71e353c9d",
   "metadata": {},
   "source": [
    "**Nhận xét tổng quan:**\n",
    "1. Mô hình SARIMA(4, 1, 3)x(2, 1, [1], 12) dường như đã khớp tốt với dữ liệu, thể hiện qua các kiểm định Ljung-Box và Jarque-Bera, chỉ ra rằng phần dư không có tự tương quan và có phân phối gần với chuẩn.\n",
    "2. Ý nghĩa của các hệ số: Các hệ số của thành phần AR và MA trong mô hình có ý nghĩa thống kê, điều này cho thấy các thành phần này đóng vai trò quan trọng trong mô hình. Tuy nhiên, các hệ số mùa vụ (ar.S.L12, ar.S.L24, ma.S.L12) lại không có ý nghĩa thống kê, điều này có thể chỉ ra rằng mô hình có thể không cần đến thành phần mùa vụ.\n",
    "3. Phương sai của phần dư: Phần dư có dấu hiệu của phương sai thay đổi (heteroskedasticity), điều này có thể ảnh hưởng đến độ tin cậy của các dự báo dài hạn.\n",
    "4. Phân phối của phần dư: Phần dư có phân phối gần với chuẩn (Skew gần 0 và Kurtosis gần 3), điều này cho thấy mô hình có khả năng dự báo tốt.\n",
    "\n",
    "**Kết luận:**\n",
    "- Mô hình SARIMA(4, 1, 3)x(2, 1, [1], 12) là một mô hình hợp lý cho dữ liệu này và có thể sử dụng để dự báo.\n",
    "- Tuy nhiên, nếu cần cải thiện thêm, bạn có thể thử loại bỏ thành phần mùa vụ vì các hệ số mùa vụ không có ý nghĩa thống kê.\n",
    "- Nếu dữ liệu có tính chất thay đổi phương sai theo thời gian, bạn cũng có thể thử các mô hình khác như GARCH để xử lý vấn đề này."
   ]
  },
  {
   "cell_type": "code",
   "execution_count": null,
   "id": "98dcfc9c-75d4-47c4-b911-df86aeb24a7c",
   "metadata": {},
   "outputs": [],
   "source": []
  },
  {
   "cell_type": "code",
   "execution_count": null,
   "id": "710f6ef9-193f-4ab2-bd74-aa8a3e9b2861",
   "metadata": {},
   "outputs": [],
   "source": [
    "# Tính MSE và RMSE cho hai mô hình\n",
    "arima_mse = mean_squared_error(test, arima_forecast)\n",
    "sarima_mse = mean_squared_error(test, sarima_forecast)"
   ]
  },
  {
   "cell_type": "code",
   "execution_count": null,
   "id": "6641a4e5-af84-41a6-a373-4f76fd99cc76",
   "metadata": {},
   "outputs": [],
   "source": [
    "print(\"Kết quả so sánh:\")\n",
    "print(\"ARIMA - MSE:\", arima_mse, \" RMSE:\", np.sqrt(arima_mse))\n",
    "print(\"SARIMA - MSE:\", sarima_mse, \" RMSE:\", np.sqrt(sarima_mse))"
   ]
  },
  {
   "cell_type": "markdown",
   "id": "a1c87535-0f1a-42b1-8a8b-5c39ac98339f",
   "metadata": {},
   "source": [
    "**nhận xét**\n",
    "1. Độ chính xác của dự báo:\n",
    "\n",
    "- Mô hình SARIMA có cả MSE và RMSE thấp hơn nhiều so với mô hình ARIMA. Cụ thể, MSE của SARIMA nhỏ hơn rất nhiều lần so với ARIMA (7,896 so với 294,458), và RMSE của SARIMA cũng thấp hơn đáng kể (88.86 so với 542.64).\n",
    "RMSE là một chỉ số quan trọng vì nó phản ánh sai số trung bình trong đơn vị gốc của dữ liệu (tức là tương ứng với mức tiêu thụ hoặc doanh số). RMSE của SARIMA thấp hơn cho thấy rằng dự báo của SARIMA gần với giá trị thực hơn so với ARIMA.\n",
    "\n",
    "2. Tác động của thành phần mùa vụ:\n",
    "\n",
    "- SARIMA có khả năng mô hình hóa các thành phần mùa vụ, điều này có thể là lý do tại sao nó hoạt động tốt hơn ARIMA trên chuỗi thời gian này. Nếu dữ liệu của bạn có tính mùa vụ (chẳng hạn như có chu kỳ theo tháng hoặc năm), SARIMA sẽ phù hợp hơn do khả năng nắm bắt các mẫu lặp lại theo mùa.\n",
    "ARIMA không có thành phần mùa vụ, do đó có thể bỏ qua các xu hướng mùa vụ trong dữ liệu, dẫn đến sai số dự báo lớn hơn.\n",
    "\n",
    "**Kết luận:**\n",
    "\n",
    "- Mô hình SARIMA là lựa chọn tốt hơn cho dữ liệu này, vì nó có độ chính xác dự báo cao hơn so với ARIMA, thể hiện qua các chỉ số MSE và RMSE thấp hơn.\n",
    "- Do đó, SARIMA nên được ưu tiên sử dụng cho các dự báo tiếp theo với dữ liệu này, đặc biệt nếu tính mùa vụ là yếu tố quan trọng trong chuỗi thời gian."
   ]
  },
  {
   "cell_type": "code",
   "execution_count": null,
   "id": "3b927cbd-f6c5-47e8-8db3-977aea8d028d",
   "metadata": {},
   "outputs": [],
   "source": []
  },
  {
   "cell_type": "code",
   "execution_count": null,
   "id": "c8492017-5029-4764-b127-950faa170b34",
   "metadata": {},
   "outputs": [],
   "source": []
  }
 ],
 "metadata": {
  "kernelspec": {
   "display_name": "Python 3 (ipykernel)",
   "language": "python",
   "name": "python3"
  },
  "language_info": {
   "codemirror_mode": {
    "name": "ipython",
    "version": 3
   },
   "file_extension": ".py",
   "mimetype": "text/x-python",
   "name": "python",
   "nbconvert_exporter": "python",
   "pygments_lexer": "ipython3",
   "version": "3.12.3"
  }
 },
 "nbformat": 4,
 "nbformat_minor": 5
}
